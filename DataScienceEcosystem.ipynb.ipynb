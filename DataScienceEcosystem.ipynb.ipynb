{
    "cells": [
        {
            "cell_type": "markdown",
            "metadata": {
                "collapsed": true,
                "id": "dbca7aad-c723-40f2-b0dd-fe3a86f92d12",
                "jupyter": {
                    "outputs_hidden": true
                }
            },
            "source": "# Data Science Tools and Ecosystem"
        },
        {
            "cell_type": "markdown",
            "metadata": {
                "id": "bf82ef40-eff2-4422-86aa-f8c4d2313947"
            },
            "source": "# In this notebook, Data Science Tools and Ecosystem are summarized."
        },
        {
            "cell_type": "markdown",
            "metadata": {
                "id": "bf0a8405-e66e-44d7-8d8c-6c4a96b6080d"
            },
            "source": "# Some of the popular languages that Data Scientists use are:"
        },
        {
            "cell_type": "code",
            "execution_count": null,
            "metadata": {
                "id": "24b5b9aa-f6ef-494c-bd96-6c8384501a77"
            },
            "outputs": [],
            "source": "1. Python  \n2. R  \n3. SQL  \n4. Julia  \n5. Scala"
        },
        {
            "cell_type": "markdown",
            "metadata": {
                "id": "b57bf91c-4fa3-468e-929d-f4259f2c81e8"
            },
            "source": "# Some of the commonly used libraries used by Data Scientists include:"
        },
        {
            "cell_type": "code",
            "execution_count": null,
            "metadata": {
                "id": "35dab141-d809-4f82-8268-2ae8fa066934"
            },
            "outputs": [],
            "source": "1. Pandas  \n2. NumPy  \n3. Matplotlib  \n4. Scikit-learn  \n5. TensorFlow"
        },
        {
            "cell_type": "markdown",
            "metadata": {
                "id": "b5a7abc7-2e9d-497c-ad0d-a4b565fed77b"
            },
            "source": "| Data Science Tools     |\n|------------------------|\n| Jupyter Notebook       |\n| RStudio                |\n| Visual Studio Code     |"
        },
        {
            "cell_type": "markdown",
            "metadata": {
                "id": "c78eafda-c308-466e-b2e0-4c93879175e2"
            },
            "source": "### Below are a few examples of evaluating arithmetic expressions in Python."
        },
        {
            "cell_type": "code",
            "execution_count": 1,
            "metadata": {
                "id": "2f14a792-7729-4c21-9eac-f4e71d75b8aa"
            },
            "outputs": [
                {
                    "data": {
                        "text/plain": "17"
                    },
                    "execution_count": 1,
                    "metadata": {},
                    "output_type": "execute_result"
                }
            ],
            "source": "# This is a simple arithmetic expression to multiply then add integers\n(3 * 4) + 5"
        },
        {
            "cell_type": "code",
            "execution_count": 2,
            "metadata": {
                "id": "e10decee-0fef-4482-8416-f69791321d73"
            },
            "outputs": [
                {
                    "data": {
                        "text/plain": "3.3333333333333335"
                    },
                    "execution_count": 2,
                    "metadata": {},
                    "output_type": "execute_result"
                }
            ],
            "source": "# This will convert 200 minutes to hours by dividing by 60\n200 / 60"
        },
        {
            "cell_type": "markdown",
            "metadata": {
                "id": "ce622fd3-c1fc-455d-9d2a-4c85530a763c"
            },
            "source": "**Objectives:**\n\n- List popular languages for Data Science  \n- List commonly used libraries for Data Science  \n- List development tools used in Data Science  \n- Perform basic arithmetic expressions using Python  \n- Convert minutes to hours using Python code  "
        },
        {
            "cell_type": "markdown",
            "metadata": {
                "id": "b6d6b8c8-4ab8-4f11-ae62-9254f9938a68"
            },
            "source": "## Author  \nTitus Gitari"
        }
    ],
    "metadata": {
        "kernelspec": {
            "display_name": "Python 3.11",
            "language": "python",
            "name": "python3"
        },
        "language_info": {
            "codemirror_mode": {
                "name": "ipython",
                "version": 3
            },
            "file_extension": ".py",
            "mimetype": "text/x-python",
            "name": "python",
            "nbconvert_exporter": "python",
            "pygments_lexer": "ipython3",
            "version": "3.11.13"
        }
    },
    "nbformat": 4,
    "nbformat_minor": 4
}